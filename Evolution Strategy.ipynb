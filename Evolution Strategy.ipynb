{
 "cells": [
  {
   "cell_type": "code",
   "execution_count": 28,
   "id": "eb98c905-e182-404c-9693-8b3c3ec430a4",
   "metadata": {},
   "outputs": [],
   "source": [
    "import numpy as np\n",
    "from abc import ABC, abstractmethod"
   ]
  },
  {
   "cell_type": "code",
   "execution_count": 131,
   "id": "5d5fa9de-19dc-4375-84ca-4586c7fb2fe3",
   "metadata": {},
   "outputs": [],
   "source": [
    "class organism(ABC):\n",
    "    @abstractmethod\n",
    "    def __init__(self, genetics):\n",
    "        self.fitness = 0\n",
    "        self.genetics = genetics\n",
    "    \n",
    "    @abstractmethod\n",
    "    def eval_fitness(self):\n",
    "        pass\n",
    "    \n",
    "class vector_organism(organism):\n",
    "    def __init__(self, vector, goal_matrix):\n",
    "        super().__init__(vector)\n",
    "        self.goal_matrix = goal_matrix\n",
    "        \n",
    "    def eval_fitness(self):\n",
    "        return 1/sqrt(np.sum(np.square(np.matmul(self.goal_matrix, self.genetics) - self.genetics)))"
   ]
  },
  {
   "cell_type": "code",
   "execution_count": 138,
   "id": "1ab583eb-92f0-4813-b33e-61d873793eb9",
   "metadata": {},
   "outputs": [],
   "source": [
    "def init_pop(goal_matrix, count=100, dim=3, mean_genetics=None):\n",
    "    population = []\n",
    "    if(mean_genetics is None):\n",
    "        for i in range(count):\n",
    "            population.append(vector_organism(np.random.rand(dim), goal_matrix))\n",
    "        \n",
    "    else:\n",
    "        for i in range(count):\n",
    "            population.append(vector_organism(np.random.multivariate_normal(mean_genetics, np.identity(3)*0.5),\n",
    "                                              goal_matrix))\n",
    "    return population\n",
    "\n",
    "def get_mean(population):\n",
    "    mean_genetics = 0\n",
    "    total_fitness = 0\n",
    "    \n",
    "    for org in population:\n",
    "        mean_genetics += org.genetics * org.eval_fitness()\n",
    "        total_fitness += org.eval_fitness()\n",
    "        \n",
    "    mean_genetics /= total_fitness\n",
    "    return mean_genetics"
   ]
  },
  {
   "cell_type": "code",
   "execution_count": 139,
   "id": "ccaa30c0-9ede-4bbe-b21b-35377bc719c5",
   "metadata": {},
   "outputs": [],
   "source": [
    "M = np.random.rand(3,3)\n",
    "population = init_pop(M)"
   ]
  },
  {
   "cell_type": "code",
   "execution_count": 140,
   "id": "6285a9d0-6f86-4af2-bcda-e2f425263470",
   "metadata": {},
   "outputs": [],
   "source": [
    "v = get_mean(population)"
   ]
  },
  {
   "cell_type": "code",
   "execution_count": 141,
   "id": "9ee1459b-2e02-4d99-be1a-35cf4da9c5af",
   "metadata": {},
   "outputs": [],
   "source": [
    "for i in range(100):\n",
    "    population = init_pop(M, mean_genetics=v)\n",
    "    v = get_mean(population)"
   ]
  },
  {
   "cell_type": "code",
   "execution_count": null,
   "id": "b5d5da5c-52d0-461e-9c03-1d0e0d5616f4",
   "metadata": {},
   "outputs": [],
   "source": []
  }
 ],
 "metadata": {
  "kernelspec": {
   "display_name": "Python 3 (ipykernel)",
   "language": "python",
   "name": "python3"
  },
  "language_info": {
   "codemirror_mode": {
    "name": "ipython",
    "version": 3
   },
   "file_extension": ".py",
   "mimetype": "text/x-python",
   "name": "python",
   "nbconvert_exporter": "python",
   "pygments_lexer": "ipython3",
   "version": "3.9.6"
  }
 },
 "nbformat": 4,
 "nbformat_minor": 5
}
