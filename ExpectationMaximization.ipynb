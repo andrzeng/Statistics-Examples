{
 "cells": [
  {
   "cell_type": "code",
   "execution_count": 56,
   "id": "cc188d95-4f5b-4cfb-8d3d-6cd14ab8f92c",
   "metadata": {},
   "outputs": [],
   "source": [
    "import numpy as np\n",
    "import matplotlib.pyplot as plt"
   ]
  },
  {
   "cell_type": "code",
   "execution_count": 57,
   "id": "9c195acd-880f-4e8f-b566-81dbd67abf1c",
   "metadata": {},
   "outputs": [],
   "source": [
    "class MixedModel_Distribution():\n",
    "    def __init__(self, samples_per_distribution=10):\n",
    "        points = []\n",
    "        \n",
    "        mean_1 = np.random.uniform(-5,5)\n",
    "        stddev_1 = np.random.uniform(0.5,1.5)\n",
    "        \n",
    "        mean_2 = np.random.uniform(-5,5)\n",
    "        stddev_2 = np.random.uniform(0.5,1.5)\n",
    "        \n",
    "        for i in range(samples_per_distribution):\n",
    "            points.append(np.random.normal(mean_1, stddev_1))\n",
    "        \n",
    "        for i in range(samples_per_distribution):\n",
    "            points.append(np.random.normal(mean_2, stddev_2))\n",
    "        \n",
    "        self.points = np.array(points)\n",
    "        self.guess = np.zeros(len(self.points))\n",
    "        \n",
    "    def view(self):\n",
    "        for i in range(len(self.points)):\n",
    "            if(self.guess[i] == 0):\n",
    "                plt.scatter(self.points[i], 0, color='black')\n",
    "            elif(self.guess[i] == 1):\n",
    "                plt.scatter(self.points[i], 0, color='skyblue')\n",
    "            else:\n",
    "                plt.scatter(self.points[i], 0, color='tomato')\n",
    "        \n",
    "        plt.ylim(bottom=-0.1, top=2)\n",
    "        plt.title(\"Mixed model sample points\")\n",
    "        \n",
    "        \n",
    "    def fit(self):\n",
    "        \n",
    "        mixture_mean = np.mean(self.points)\n",
    "        mixture_std = np.std(self.points)\n",
    "        \n",
    "        est_mean_1 = np.random.normal(mixture_mean, mixture_std)\n",
    "        est_std_1 = mixture_std\n",
    "        \n",
    "        est_mean_2 = np.random.normal(mixture_mean, mixture_std)\n",
    "        est_std_2 = mixture_std\n",
    "        \n",
    "        done = False\n",
    "        while(not done):\n",
    "            for i in range(len(self.points)):\n",
    "                #TODO\n",
    "                pass"
   ]
  },
  {
   "cell_type": "code",
   "execution_count": 58,
   "id": "40ef5b77-8240-4a1c-bc82-e2e205195324",
   "metadata": {},
   "outputs": [],
   "source": [
    "m = MixedModel_Distribution()"
   ]
  },
  {
   "cell_type": "code",
   "execution_count": 59,
   "id": "869b4d4e-27cc-40a1-bd12-9de116ac1e63",
   "metadata": {},
   "outputs": [
    {
     "data": {
      "image/png": "[encoded data removed]",
      "text/plain": [
       "<Figure size 432x288 with 1 Axes>"
      ]
     },
     "metadata": {
      "needs_background": "light"
     },
     "output_type": "display_data"
    }
   ],
   "source": [
    "m.view()"
   ]
  },
  {
   "cell_type": "code",
   "execution_count": null,
   "id": "27435079-346a-40ef-a9d8-264daeeca29b",
   "metadata": {},
   "outputs": [],
   "source": []
  },
  {
   "cell_type": "code",
   "execution_count": null,
   "id": "85565e19-f0c2-425c-9a7e-9108c05472ea",
   "metadata": {},
   "outputs": [],
   "source": []
  },
  {
   "cell_type": "code",
   "execution_count": null,
   "id": "7fac6729-47b8-4363-a306-3f643a7f65fe",
   "metadata": {},
   "outputs": [],
   "source": []
  }
 ],
 "metadata": {
  "kernelspec": {
   "display_name": "Python 3 (ipykernel)",
   "language": "python",
   "name": "python3"
  },
  "language_info": {
   "codemirror_mode": {
    "name": "ipython",
    "version": 3
   },
   "file_extension": ".py",
   "mimetype": "text/x-python",
   "name": "python",
   "nbconvert_exporter": "python",
   "pygments_lexer": "ipython3",
   "version": "3.9.6"
  }
 },
 "nbformat": 4,
 "nbformat_minor": 5
}
