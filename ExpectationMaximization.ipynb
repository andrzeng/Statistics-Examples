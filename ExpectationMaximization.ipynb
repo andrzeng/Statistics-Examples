{
 "cells": [
  {
   "cell_type": "code",
   "execution_count": 2,
   "id": "cc188d95-4f5b-4cfb-8d3d-6cd14ab8f92c",
   "metadata": {},
   "outputs": [],
   "source": [
    "import numpy as np\n",
    "import matplotlib.pyplot as plt"
   ]
  },
  {
   "cell_type": "code",
   "execution_count": 51,
   "id": "9c195acd-880f-4e8f-b566-81dbd67abf1c",
   "metadata": {},
   "outputs": [],
   "source": [
    "class MixedModel_Distribution():\n",
    "    def __init__(self, samples_per_distribution=10):\n",
    "        points = []\n",
    "        \n",
    "        mean_1 = np.random.uniform(-5,5)\n",
    "        stddev_1 = np.random.uniform(0.5,1.5)\n",
    "        \n",
    "        mean_2 = np.random.uniform(-5,5)\n",
    "        stddev_2 = np.random.uniform(0.5,1.5)\n",
    "        \n",
    "        for i in range(samples_per_distribution):\n",
    "            points.append(np.random.normal(mean_1, stddev_1))\n",
    "        \n",
    "        for i in range(samples_per_distribution):\n",
    "            points.append(np.random.normal(mean_2, stddev_2))\n",
    "        \n",
    "        self.points = np.array(points)\n",
    "        self.guess = np.zeros(len(self.points))\n",
    "        \n",
    "    def view(self):\n",
    "        for i in range(len(self.points)):\n",
    "            if(self.guess[i] == 0):\n",
    "                plt.scatter(self.points[i], 0, color='black')\n",
    "            elif(self.guess[i] == 1):\n",
    "                plt.scatter(self.points[i], 0, color='skyblue')\n",
    "            else:\n",
    "                plt.scatter(self.points[i], 0, color='tomato')\n",
    "        \n",
    "        plt.ylim(bottom=-0.1, top=2)\n",
    "        plt.title(\"Mixed model sample points\")\n",
    "        \n",
    "        \n",
    "    def fit(self):\n",
    "        \n",
    "        mixture_mean = np.mean(self.points)\n",
    "        mixture_std = np.std(self.points)\n",
    "        \n",
    "        est_mean_1 = np.random.normal(mixture_mean, mixture_std)\n",
    "        est_std_1 = mixture_std\n",
    "        \n",
    "        est_mean_2 = np.random.normal(mixture_mean, mixture_std)\n",
    "        est_std_2 = mixture_std\n",
    "        \n",
    "        done = False\n",
    "        while(not done):\n",
    "            for i in range(len(self.points)):\n",
    "                "
   ]
  },
  {
   "cell_type": "code",
   "execution_count": 52,
   "id": "40ef5b77-8240-4a1c-bc82-e2e205195324",
   "metadata": {},
   "outputs": [],
   "source": [
    "m = MixedModel_Distribution()"
   ]
  },
  {
   "cell_type": "code",
   "execution_count": 53,
   "id": "869b4d4e-27cc-40a1-bd12-9de116ac1e63",
   "metadata": {},
   "outputs": [
    {
     "data": {
      "image/png": "[encoded data removed]",
      "text/plain": [
       "<Figure size 432x288 with 1 Axes>"
      ]
     },
     "metadata": {
      "needs_background": "light"
     },
     "output_type": "display_data"
    }
   ],
   "source": [
    "m.view()"
   ]
  },
  {
   "cell_type": "code",
   "execution_count": 21,
   "id": "dade48a5-6a83-4fb2-8513-c608fb06a83f",
   "metadata": {},
   "outputs": [],
   "source": [
    "a = np.array([1,2,3])"
   ]
  },
  {
   "cell_type": "code",
   "execution_count": 22,
   "id": "85ae3bc1-5510-4f06-b8a7-c4644c8659ff",
   "metadata": {},
   "outputs": [
    {
     "data": {
      "text/plain": [
       "0.816496580927726"
      ]
     },
     "execution_count": 22,
     "metadata": {},
     "output_type": "execute_result"
    }
   ],
   "source": [
    "np.std(a)"
   ]
  },
  {
   "cell_type": "code",
   "execution_count": 29,
   "id": "ef062273-754d-459e-9952-ac35850f6619",
   "metadata": {},
   "outputs": [],
   "source": [
    "a, b = np.random.normal([1111,2],[3,4])"
   ]
  },
  {
   "cell_type": "code",
   "execution_count": 30,
   "id": "b3dfbd9d-24ef-4c8d-ac81-bbdc66842775",
   "metadata": {},
   "outputs": [
    {
     "data": {
      "text/plain": [
       "1116.9185622258908"
      ]
     },
     "execution_count": 30,
     "metadata": {},
     "output_type": "execute_result"
    }
   ],
   "source": [
    "a"
   ]
  },
  {
   "cell_type": "code",
   "execution_count": 28,
   "id": "009f9b86-f5b6-48c9-8d23-d89651f339ed",
   "metadata": {},
   "outputs": [
    {
     "data": {
      "text/plain": [
       "5.176762866357521"
      ]
     },
     "execution_count": 31,
     "metadata": {},
     "output_type": "execute_result"
    }
   ],
   "source": [
    "b"
   ]
  },
  {
   "cell_type": "code",
   "execution_count": null,
   "id": "27435079-346a-40ef-a9d8-264daeeca29b",
   "metadata": {},
   "outputs": [],
   "source": []
  }
 ],
 "metadata": {
  "kernelspec": {
   "display_name": "Python 3 (ipykernel)",
   "language": "python",
   "name": "python3"
  },
  "language_info": {
   "codemirror_mode": {
    "name": "ipython",
    "version": 3
   },
   "file_extension": ".py",
   "mimetype": "text/x-python",
   "name": "python",
   "nbconvert_exporter": "python",
   "pygments_lexer": "ipython3",
   "version": "3.9.6"
  }
 },
 "nbformat": 4,
 "nbformat_minor": 5
}
